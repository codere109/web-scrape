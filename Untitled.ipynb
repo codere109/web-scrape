{
 "cells": [
  {
   "cell_type": "code",
   "execution_count": null,
   "id": "18468429",
   "metadata": {},
   "outputs": [],
   "source": [
    "from bs4 import BeautifulSoup as bs\n",
    "from splinter import Browser\n",
    "from webdriver_manager.chrome import ChromeDriverManager"
   ]
  },
  {
   "cell_type": "code",
   "execution_count": null,
   "id": "dcdd3c44",
   "metadata": {},
   "outputs": [],
   "source": [
    "# Setup splinter\n",
    "executable_path = {'executable_path': ChromeDriverManager().install()}\n",
    "browser = Browser('chrome', **executable_path, headless=False)"
   ]
  },
  {
   "cell_type": "code",
   "execution_count": null,
   "id": "c406ba09",
   "metadata": {},
   "outputs": [],
   "source": [
    "url = 'https://redplanetscience.com'\n",
    "browser.visit(url)"
   ]
  },
  {
   "cell_type": "code",
   "execution_count": null,
   "id": "09180c1a",
   "metadata": {},
   "outputs": [],
   "source": [
    "html = browser.html\n",
    "soup = bs(html, 'html.parser')\n",
    "\n",
    "#soup\n"
   ]
  },
  {
   "cell_type": "code",
   "execution_count": null,
   "id": "8969625e",
   "metadata": {},
   "outputs": [],
   "source": [
    "elements = soup.find_all('div', class_='list_text')\n",
    "elements\n",
    "\n"
   ]
  },
  {
   "cell_type": "code",
   "execution_count": null,
   "id": "18e98337",
   "metadata": {},
   "outputs": [],
   "source": [
    "news = []\n",
    "for item in elements:\n",
    "    title = item.find('div', class_='content_title').text\n",
    "    preview = item.find('div', class_='article_teaser_body').text\n",
    "    news_dict = {}\n",
    "    news_dict['title']=title\n",
    "    news_dict['preview']=preview\n",
    "    news.append(news_dict)"
   ]
  },
  {
   "cell_type": "code",
   "execution_count": null,
   "id": "81ab2107",
   "metadata": {},
   "outputs": [],
   "source": [
    "news"
   ]
  },
  {
   "cell_type": "markdown",
   "id": "ac0805b4",
   "metadata": {},
   "source": [
    "# Featured Image"
   ]
  },
  {
   "cell_type": "code",
   "execution_count": null,
   "id": "860f39f6",
   "metadata": {},
   "outputs": [],
   "source": [
    "url = 'https://spaceimages-mars.com'\n",
    "\n",
    "browser.visit(url)"
   ]
  },
  {
   "cell_type": "code",
   "execution_count": null,
   "id": "d3153b9b",
   "metadata": {},
   "outputs": [],
   "source": [
    "button = browser.find_by_tag('button')[1]\n",
    "button.click()"
   ]
  },
  {
   "cell_type": "code",
   "execution_count": null,
   "id": "86e96ec6",
   "metadata": {},
   "outputs": [],
   "source": [
    "html = browser.html\n",
    "img_soup = bs(html, 'html.parser')\n",
    "\n",
    "img_soup"
   ]
  },
  {
   "cell_type": "code",
   "execution_count": null,
   "id": "ae6648a3",
   "metadata": {},
   "outputs": [],
   "source": [
    "img_url = img_soup.find('img', class_='fancybox-image').get('src')\n",
    "img_url\n"
   ]
  },
  {
   "cell_type": "code",
   "execution_count": null,
   "id": "1e65e4ef",
   "metadata": {
    "scrolled": true
   },
   "outputs": [],
   "source": [
    "src_url = f'https://spaceimages-mars.com/{img_url}'\n",
    "src_url"
   ]
  },
  {
   "cell_type": "markdown",
   "id": "3e246678",
   "metadata": {},
   "source": [
    "# Mars Facts"
   ]
  },
  {
   "cell_type": "code",
   "execution_count": null,
   "id": "3d75b505",
   "metadata": {},
   "outputs": [],
   "source": [
    "import pandas as pd\n",
    "import requests "
   ]
  },
  {
   "cell_type": "code",
   "execution_count": null,
   "id": "c4359596",
   "metadata": {},
   "outputs": [],
   "source": [
    "mars_df = pd.read_html('https://galaxyfacts-mars.com/')[0]\n",
    "mars_df"
   ]
  },
  {
   "cell_type": "code",
   "execution_count": null,
   "id": "9cdf4006",
   "metadata": {},
   "outputs": [],
   "source": [
    "mars_df.columns=['description', 'mars', 'earth']\n",
    "mars_df.set_index('description', inplace=True)\n",
    "mars_df"
   ]
  },
  {
   "cell_type": "code",
   "execution_count": null,
   "id": "22be68e4",
   "metadata": {},
   "outputs": [],
   "source": [
    "mars_df.to_html()"
   ]
  },
  {
   "cell_type": "markdown",
   "id": "8f437ed1",
   "metadata": {},
   "source": [
    "# Hemispheres"
   ]
  },
  {
   "cell_type": "code",
   "execution_count": 25,
   "id": "88c90c8d",
   "metadata": {},
   "outputs": [],
   "source": [
    "#double check url\n",
    "hemi_url = 'https://marshemispheres.com/'\n",
    "browser.visit(hemi_url)"
   ]
  },
  {
   "cell_type": "code",
   "execution_count": 26,
   "id": "59080aba",
   "metadata": {},
   "outputs": [
    {
     "data": {
      "text/plain": [
       "[]"
      ]
     },
     "execution_count": 26,
     "metadata": {},
     "output_type": "execute_result"
    }
   ],
   "source": [
    "hemi_elements = soup.find_all('div', class_='description')\n",
    "hemi_elements"
   ]
  },
  {
   "cell_type": "code",
   "execution_count": 28,
   "id": "ab2659e7",
   "metadata": {},
   "outputs": [
    {
     "data": {
      "text/plain": [
       "3"
      ]
     },
     "execution_count": 28,
     "metadata": {},
     "output_type": "execute_result"
    }
   ],
   "source": [
    "#create for loop\n",
    "hemispheres = []\n",
    "for item in range(4):\n",
    "    #click before \n",
    "    browser.find_by_css('a.product-item img').click()\n",
    "    #browser.links.find_all(\"itemLink product-item\")[item].click()\n",
    "    title = browser.find_by_css('h2.title').text\n",
    "    element = browser.links.find_by_text('Sample').first\n",
    "    \n",
    "    img_url = element['href']\n",
    "    hemi_dict = {}\n",
    "    hemi_dict['title']=title\n",
    "    hemi_dict['img_url']=img_url\n",
    "    hemispheres.append(hemi_dict)\n",
    "    browser.back()\n"
   ]
  },
  {
   "cell_type": "code",
   "execution_count": 29,
   "id": "edd25b94",
   "metadata": {},
   "outputs": [
    {
     "data": {
      "text/plain": [
       "[{'title': 'Cerberus Hemisphere Enhanced',\n",
       "  'img_url': 'https://marshemispheres.com/images/full.jpg'},\n",
       " {'title': 'Cerberus Hemisphere Enhanced',\n",
       "  'img_url': 'https://marshemispheres.com/images/full.jpg'},\n",
       " {'title': 'Cerberus Hemisphere Enhanced',\n",
       "  'img_url': 'https://marshemispheres.com/images/full.jpg'},\n",
       " {'title': 'Cerberus Hemisphere Enhanced',\n",
       "  'img_url': 'https://marshemispheres.com/images/full.jpg'}]"
      ]
     },
     "execution_count": 29,
     "metadata": {},
     "output_type": "execute_result"
    }
   ],
   "source": [
    "hemispheres"
   ]
  },
  {
   "cell_type": "code",
   "execution_count": null,
   "id": "ef9d8220",
   "metadata": {},
   "outputs": [],
   "source": [
    "browser.quit()"
   ]
  },
  {
   "cell_type": "code",
   "execution_count": null,
   "id": "cbb88358",
   "metadata": {},
   "outputs": [],
   "source": [
    "\n"
   ]
  }
 ],
 "metadata": {
  "kernelspec": {
   "display_name": "Python 3 (ipykernel)",
   "language": "python",
   "name": "python3"
  },
  "language_info": {
   "codemirror_mode": {
    "name": "ipython",
    "version": 3
   },
   "file_extension": ".py",
   "mimetype": "text/x-python",
   "name": "python",
   "nbconvert_exporter": "python",
   "pygments_lexer": "ipython3",
   "version": "3.8.13"
  }
 },
 "nbformat": 4,
 "nbformat_minor": 5
}
